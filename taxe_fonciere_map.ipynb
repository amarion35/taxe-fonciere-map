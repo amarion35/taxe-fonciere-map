{
 "cells": [
  {
   "cell_type": "code",
   "execution_count": 1,
   "metadata": {},
   "outputs": [],
   "source": [
    "import pandas as pd\n",
    "import geopandas as gpd\n",
    "import json\n",
    "\n",
    "with open(\"geo.json\") as f:\n",
    "    geojson = json.load(f)\n",
    "\n",
    "tax_data = pd.read_csv(\"fiscalite-locale-des-particuliers.csv\", sep=\";\")\n",
    "tax_data = tax_data[[\"DEP\", \"INSEE COM\", \"LIBCOM\", \"EXERCICE\", \"Taux_Global_TFB\"]]\n",
    "tax_data = tax_data.rename(columns={\"INSEE COM\": \"codgeo\"})\n",
    "geo_data = gpd.GeoDataFrame.from_file(\"geo.json\")\n",
    "tax_data = geo_data.merge(tax_data, left_on=\"codgeo\", right_on=\"codgeo\")\n",
    "tax_data = tax_data.loc[(tax_data[\"EXERCICE\"] == 2023)]\n",
    "bounds = tax_data[\"geometry\"].total_bounds.reshape(2, 2)[:, [1, 0]].tolist()\n",
    "centroid = tax_data[\"geometry\"].total_bounds.reshape(2, 2)[:, [1, 0]].mean(0)"
   ]
  },
  {
   "cell_type": "code",
   "execution_count": null,
   "metadata": {},
   "outputs": [],
   "source": [
    "import plotly.graph_objects as go\n",
    "\n",
    "\n",
    "fig = go.Figure(\n",
    "    go.Choroplethmap(\n",
    "        geojson=geojson,\n",
    "        locations=tax_data[\"codgeo\"],\n",
    "        z=tax_data[\"Taux_Global_TFB\"],\n",
    "        featureidkey=\"properties.codgeo\",\n",
    "        text=tax_data[\"LIBCOM\"],\n",
    "        hovertemplate=\"<b>%{text}</b><br>Taxe foncière: %{z}%<extra></extra>\",\n",
    "        colorscale=\"plasma\",\n",
    "        marker_opacity=0.9,\n",
    "        marker_line_width=0.05,\n",
    "        showlegend=True,\n",
    "    ),\n",
    ")\n",
    "fig.update_layout(\n",
    "    title=\"Taux de taxe foncière sur les propriétés non bâties par commune en 2023\",\n",
    "    map_style=\"carto-positron\",\n",
    "    map_zoom=4.5,\n",
    "    map_center={\"lat\": centroid[0], \"lon\": centroid[1]},\n",
    "    margin={\"r\": 0, \"t\": 30, \"l\": 0, \"b\": 0},\n",
    ")\n",
    "\n",
    "fig.show()"
   ]
  },
  {
   "cell_type": "code",
   "execution_count": 3,
   "metadata": {},
   "outputs": [],
   "source": [
    "fig.write_html(\"map.html\")"
   ]
  },
  {
   "cell_type": "code",
   "execution_count": null,
   "metadata": {},
   "outputs": [],
   "source": []
  }
 ],
 "metadata": {
  "kernelspec": {
   "display_name": ".venv",
   "language": "python",
   "name": "python3"
  },
  "language_info": {
   "codemirror_mode": {
    "name": "ipython",
    "version": 3
   },
   "file_extension": ".py",
   "mimetype": "text/x-python",
   "name": "python",
   "nbconvert_exporter": "python",
   "pygments_lexer": "ipython3",
   "version": "3.11.7"
  }
 },
 "nbformat": 4,
 "nbformat_minor": 2
}
